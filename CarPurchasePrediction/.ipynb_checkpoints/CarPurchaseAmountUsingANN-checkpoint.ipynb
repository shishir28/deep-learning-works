{
 "cells": [
  {
   "cell_type": "markdown",
   "id": "fbf46942-6c74-4c0d-ac86-750f964db719",
   "metadata": {},
   "source": [
    "Step 0: Libraries Import"
   ]
  },
  {
   "cell_type": "markdown",
   "id": "c786f452",
   "metadata": {},
   "source": [
    "# Problem Statement: Predict the amount of money spent by customers on car purchase using ANN\n"
   ]
  },
  {
   "cell_type": "markdown",
   "id": "ea523960",
   "metadata": {},
   "source": [
    "As a car sales man I would like to use model to predict the total amount that customers are willing to pay using the following attributes:\n",
    "- Customer Name\n",
    "_ Customer Email\n",
    "- Country\n",
    "- Gender\n",
    "- Age\n",
    "- Annual Salary\n",
    "- Credit Card Debt\n",
    "- Net Worth\n",
    "\n",
    "The model should be able to predict car purchasing amount by given the above attributes.\n",
    "\n"
   ]
  },
  {
   "cell_type": "markdown",
   "id": "e5694154",
   "metadata": {},
   "source": [
    "#  Import  Libraries"
   ]
  },
  {
   "cell_type": "raw",
   "id": "9fd01290-d4a8-4968-bd87-65debcca83fb",
   "metadata": {},
   "source": [
    "import pandas as pd\n",
    "import numpy as np\n",
    "import matplotlib.pyplot as plt\n",
    "import seaborn as sns"
   ]
  },
  {
   "cell_type": "markdown",
   "id": "d5fa6ce8",
   "metadata": {},
   "source": [
    "# Import Dataset"
   ]
  },
  {
   "cell_type": "markdown",
   "id": "967c2ffd-3320-4811-8fe6-b39d6c3a5644",
   "metadata": {},
   "source": []
  },
  {
   "cell_type": "raw",
   "id": "fbf1104f",
   "metadata": {},
   "source": [
    "cars_df = pd.read_csv('Car_Purchasing_Data.csv')\n"
   ]
  },
  {
   "cell_type": "code",
   "execution_count": 4,
   "id": "48fc2cbb-d603-4822-8fbe-c05665ff89bf",
   "metadata": {},
   "outputs": [
    {
     "ename": "NameError",
     "evalue": "name 'cars_df' is not defined",
     "output_type": "error",
     "traceback": [
      "\u001b[0;31m---------------------------------------------------------------------------\u001b[0m",
      "\u001b[0;31mNameError\u001b[0m                                 Traceback (most recent call last)",
      "Cell \u001b[0;32mIn[4], line 1\u001b[0m\n\u001b[0;32m----> 1\u001b[0m \u001b[43mcars_df\u001b[49m\n",
      "\u001b[0;31mNameError\u001b[0m: name 'cars_df' is not defined"
     ]
    }
   ],
   "source": [
    "cars_df"
   ]
  },
  {
   "cell_type": "code",
   "execution_count": null,
   "id": "e745ddc2-7b51-4a06-89e7-e8dc25d6e966",
   "metadata": {},
   "outputs": [],
   "source": []
  }
 ],
 "metadata": {
  "kernelspec": {
   "display_name": "Python 3 (ipykernel)",
   "language": "python",
   "name": "python3"
  },
  "language_info": {
   "codemirror_mode": {
    "name": "ipython",
    "version": 3
   },
   "file_extension": ".py",
   "mimetype": "text/x-python",
   "name": "python",
   "nbconvert_exporter": "python",
   "pygments_lexer": "ipython3",
   "version": "3.11.2"
  }
 },
 "nbformat": 4,
 "nbformat_minor": 5
}
